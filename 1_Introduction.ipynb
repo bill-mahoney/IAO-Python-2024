{
 "cells": [
  {
   "cell_type": "markdown",
   "metadata": {},
   "source": [
    "# IAO Python 2024 Class\n",
    "\n",
    "## 1. Introduction\n",
    "Welcome to the IAO Python 2024 class! In this session, we'll cover the basics of Python programming. Python is a versatile and widely-used programming language known for its readability and ease of use. Let's get started!"
   ]
  }
 ],
 "metadata": {
  "kernelspec": {
   "display_name": "Python 3",
   "language": "python",
   "name": "python3"
  },
  "language_info": {
   "name": "python",
   "version": "3.8.5"
  }
 },
 "nbformat": 4,
 "nbformat_minor": 4
}
