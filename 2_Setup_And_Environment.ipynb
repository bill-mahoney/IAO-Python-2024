{
 "cells": [
  {
   "cell_type": "markdown",
   "metadata": {},
   "source": [
    "## 2. Setup and Environment\n",
    "We are using MyBinder to run our Python code in a Jupyter Notebook environment. This notebook is hosted on GitHub and is publicly accessible on the internet. Please ensure that no confidential information is entered or displayed in this notebook.\n",
    "\n",
    "Follow along as we execute each cell in this notebook.\n",
    "\n",
    "**Note:** To execute a code cell, click on the cell and press Control + Enter on your keyboard.\n",
    "\n",
    "### Hello, World!"
   ]
  },
  {
   "cell_type": "code",
   "execution_count": 9,
   "metadata": {},
   "outputs": [
    {
     "name": "stdout",
     "output_type": "stream",
     "text": [
      "This notebook is running in real time on MyBinder, right in your browser!\n",
      "Remember: This is a public environment. Do not enter any sensitive information.\n",
      "Current Time in Arizona: Tuesday, 06-25-2024 05:17:58.175985 PM\n"
     ]
    }
   ],
   "source": [
    "import datetime\n",
    "from zoneinfo import ZoneInfo\n",
    "\n",
    "print(\"This notebook is running in real time on MyBinder, right in your browser!\")\n",
    "print(\"Remember: This is a public environment. Do not enter any sensitive information.\")\n",
    "\n",
    "# Get the current time in Arizona\n",
    "current_time = datetime.datetime.now(ZoneInfo(\"America/Phoenix\"))\n",
    "\n",
    "# Output the current time in Arizona with AM/PM\n",
    "print(\"Current Time in Arizona:\", current_time.strftime(\"%A, %m-%d-%Y %I:%M:%S.%f %p\"))\n"
   ]
  }
 ],
 "metadata": {
  "kernelspec": {
   "display_name": "Python 3",
   "language": "python",
   "name": "python3"
  },
  "language_info": {
   "codemirror_mode": {
    "name": "ipython",
    "version": 3
   },
   "file_extension": ".py",
   "mimetype": "text/x-python",
   "name": "python",
   "nbconvert_exporter": "python",
   "pygments_lexer": "ipython3",
   "version": "3.10.12"
  }
 },
 "nbformat": 4,
 "nbformat_minor": 4
}
