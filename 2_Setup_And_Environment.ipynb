{
 "cells": [
  {
   "cell_type": "markdown",
   "metadata": {},
   "source": [
    "## 2. Setup and Environment\n",
    "We are using Binder to run our Python code in a Jupyter Notebook environment. Follow along as we execute each cell in this notebook.\n",
    "\n",
    "### Hello, World!"
   ]
  },
  {
   "cell_type": "code",
   "execution_count": 35,
   "metadata": {},
   "outputs": [
    {
     "name": "stdout",
     "output_type": "stream",
     "text": [
      "This notebook is running in real time, right in your browser!\n",
      "Current Time: Friday, 06-21-2024 04:38:06.742098\n"
     ]
    }
   ],
   "source": [
    "import datetime\n",
    "\n",
    "print(\"This notebook is running in real time, right in your browser!\")\n",
    "\n",
    "# Get the current time\n",
    "current_time = datetime.datetime.now()\n",
    "\n",
    "# Output the current time\n",
    "print(\"Current Time:\", current_time.strftime(\"%A, %m-%d-%Y %I:%M:%S.%f %p\")[:-3])\n"
   ]
  }
 ],
 "metadata": {
  "kernelspec": {
   "display_name": "Python 3",
   "language": "python",
   "name": "python3"
  },
  "language_info": {
   "codemirror_mode": {
    "name": "ipython",
    "version": 3
   },
   "file_extension": ".py",
   "mimetype": "text/x-python",
   "name": "python",
   "nbconvert_exporter": "python",
   "pygments_lexer": "ipython3",
   "version": "3.10.12"
  }
 },
 "nbformat": 4,
 "nbformat_minor": 4
}
