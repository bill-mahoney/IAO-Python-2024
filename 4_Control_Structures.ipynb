{
 "cells": [
  {
   "cell_type": "markdown",
   "metadata": {},
   "source": [
    "## 4. Control Structures\n",
    "\n",
    "### Conditional Statements\n",
    "Use `if`, `elif`, and `else` to execute code based on certain conditions."
   ]
  },
  {
   "cell_type": "code",
   "execution_count": 4,
   "metadata": {},
   "outputs": [
    {
     "name": "stdout",
     "output_type": "stream",
     "text": [
      "x is greater than y\n"
     ]
    }
   ],
   "source": [
    "x = 50\n",
    "y = 10\n",
    "\n",
    "if x > y:\n",
    "    print(\"x is greater than y\")\n",
    "elif x < y:\n",
    "    print(\"x is less than y\")\n",
    "else:\n",
    "    print(\"x is equal to y\")"
   ]
  },
  {
   "cell_type": "code",
   "execution_count": 9,
   "metadata": {},
   "outputs": [
    {
     "name": "stdout",
     "output_type": "stream",
     "text": [
      "10 is equal to 10\n"
     ]
    }
   ],
   "source": [
    "x = 50\n",
    "y = 10\n",
    "\n",
    "if x > y:\n",
    "    print(f\"{x} is greater than {y}\")\n",
    "elif x < y:\n",
    "    print(f\"{x} is less than {y}\")\n",
    "else:\n",
    "    print(f\"{x} is equal to {y}\")"
   ]
  },
  {
   "cell_type": "markdown",
   "metadata": {},
   "source": [
    "### Loops\n",
    "Loops are used to execute a block of code repeatedly.\n",
    "\n",
    "#### For Loop"
   ]
  },
  {
   "cell_type": "code",
   "execution_count": 12,
   "metadata": {},
   "outputs": [
    {
     "name": "stdout",
     "output_type": "stream",
     "text": [
      "0\n",
      "1\n",
      "2\n",
      "3\n",
      "4\n"
     ]
    }
   ],
   "source": [
    "# Computer love to start at 0!\n",
    "for i in range(5):\n",
    "    print(i)"
   ]
  },
  {
   "cell_type": "markdown",
   "metadata": {},
   "source": [
    "#### While Loop"
   ]
  },
  {
   "cell_type": "code",
   "execution_count": 15,
   "metadata": {},
   "outputs": [
    {
     "name": "stdout",
     "output_type": "stream",
     "text": [
      "0\n",
      "1\n",
      "2\n",
      "3\n",
      "4\n"
     ]
    }
   ],
   "source": [
    "count = 0\n",
    "while count < 5:\n",
    "    print(count)\n",
    "    count = count + 1"
   ]
  },
  {
   "cell_type": "code",
   "execution_count": 27,
   "metadata": {},
   "outputs": [
    {
     "name": "stdout",
     "output_type": "stream",
     "text": [
      "a: 10\n",
      "a: 9\n",
      "a: 8\n",
      "a: 7\n",
      "a: 6\n",
      "a: 5\n",
      "a: 4\n",
      "a: 3\n",
      "a: 2\n",
      "a: 1\n"
     ]
    }
   ],
   "source": [
    "# The dreaded, forever loop!\n",
    "a = 10\n",
    "b = 0\n",
    "while a != b:\n",
    "    print(f\"a: {a}\")\n",
    "    #a = a - 1"
   ]
  }
 ],
 "metadata": {
  "kernelspec": {
   "display_name": "Python 3",
   "language": "python",
   "name": "python3"
  },
  "language_info": {
   "codemirror_mode": {
    "name": "ipython",
    "version": 3
   },
   "file_extension": ".py",
   "mimetype": "text/x-python",
   "name": "python",
   "nbconvert_exporter": "python",
   "pygments_lexer": "ipython3",
   "version": "3.10.12"
  }
 },
 "nbformat": 4,
 "nbformat_minor": 4
}
