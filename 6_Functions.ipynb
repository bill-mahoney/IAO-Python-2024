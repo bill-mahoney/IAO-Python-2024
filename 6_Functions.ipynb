{
 "cells": [
  {
   "cell_type": "markdown",
   "metadata": {},
   "source": [
    "## 6. Functions\n",
    "Functions are reusable blocks of code that perform a specific task. They help in organizing code, making it more readable, and reducing redundancy."
   ]
  },
  {
   "cell_type": "markdown",
   "metadata": {},
   "source": [
    "### Defining a Function\n",
    "A function is defined using the `def` keyword, followed by the function name and parentheses containing any parameters. The code block within every function starts with a colon (:) and is indented."
   ]
  },
  {
   "cell_type": "code",
   "execution_count": 3,
   "metadata": {},
   "outputs": [
    {
     "name": "stdout",
     "output_type": "stream",
     "text": [
      "Hello, Pat Gelsinger, welcome to the Intel IAO Programming Class!\n"
     ]
    }
   ],
   "source": [
    "def greet(engineer_name):\n",
    "    return f\"Hello, {engineer_name}, welcome to the Intel IAO Programming Class!\"\n",
    "\n",
    "print(greet(\"Pat Gelsinger\"))"
   ]
  },
  {
   "cell_type": "markdown",
   "metadata": {},
   "source": [
    "### Functions with Multiple Parameters\n",
    "Functions can take multiple parameters, allowing you to pass more information to the function."
   ]
  },
  {
   "cell_type": "code",
   "execution_count": 4,
   "metadata": {},
   "outputs": [
    {
     "name": "stdout",
     "output_type": "stream",
     "text": [
      "The chip has 10 billion transistors and is built with 7-nm technology.\n"
     ]
    }
   ],
   "source": [
    "def chip_specifications(transistors, nanometers):\n",
    "    return f\"The chip has {transistors} billion transistors and is built with {nanometers}-nm technology.\"\n",
    "\n",
    "print(chip_specifications(10, 7))"
   ]
  },
  {
   "cell_type": "markdown",
   "metadata": {},
   "source": [
    "### Functions with Default Parameters\n",
    "You can provide default values for parameters. If a value is not provided for that parameter when the function is called, the default value will be used."
   ]
  },
  {
   "cell_type": "code",
   "execution_count": 5,
   "metadata": {},
   "outputs": [
    {
     "name": "stdout",
     "output_type": "stream",
     "text": [
      "Welcome to the team, Pat Gelsinger!\n",
      "Good morning, Jane Doe!\n"
     ]
    }
   ],
   "source": [
    "def greet(engineer_name, greeting=\"Welcome to the team\"):\n",
    "    return greeting + \", \" + engineer_name + \"!\"\n",
    "\n",
    "print(greet(\"Pat Gelsinger\"))                # Output: Welcome to the team, Pat Gelsinger!\n",
    "print(greet(\"Jane Doe\", \"Good morning\"))   # Output: Good morning, Jane Doe!"
   ]
  },
  {
   "cell_type": "markdown",
   "metadata": {},
   "source": [
    "### Returning Multiple Values\n",
    "Functions can return multiple values. This can be useful when you need to get more than one piece of information from a function."
   ]
  },
  {
   "cell_type": "code",
   "execution_count": null,
   "metadata": {},
   "outputs": [],
   "source": [
    "def get_chip_info():\n",
    "    chip_name = \"Intel Core i9\"\n",
    "    cores = 8\n",
    "    threads = 16\n",
    "    return chip_name, cores, threads\n",
    "\n",
    "chip_name, cores, threads = get_chip_info()\n",
    "print(chip_name)   # Output: Intel Core i9\n",
    "print(cores)       # Output: 8\n",
    "print(threads)     # Output: 16"
   ]
  }
 ],
 "metadata": {
  "kernelspec": {
   "display_name": "Python 3",
   "language": "python",
   "name": "python3"
  },
  "language_info": {
   "codemirror_mode": {
    "name": "ipython",
    "version": 3
   },
   "file_extension": ".py",
   "mimetype": "text/x-python",
   "name": "python",
   "nbconvert_exporter": "python",
   "pygments_lexer": "ipython3",
   "version": "3.10.12"
  }
 },
 "nbformat": 4,
 "nbformat_minor": 4
}
