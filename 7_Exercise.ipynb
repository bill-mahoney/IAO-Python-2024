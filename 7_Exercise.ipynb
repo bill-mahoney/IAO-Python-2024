{
 "cells": [
  {
   "cell_type": "markdown",
   "metadata": {},
   "source": [
    "# Simple Expense Tracker\n",
    "Complete the functions below to create a basic expense tracker."
   ]
  },
  {
   "cell_type": "code",
   "execution_count": 3,
   "metadata": {},
   "outputs": [
    {
     "name": "stdout",
     "output_type": "stream",
     "text": [
      "Test failed. Check your implementation.\n"
     ]
    }
   ],
   "source": [
    "expenses = []\n",
    "\n",
    "def add_expense(amount, category):\n",
    "    # Add a new expense to the expenses list\n",
    "    # Your code here\n",
    "    pass\n",
    "\n",
    "def get_total_expenses():\n",
    "    # Return the total of all expenses\n",
    "    # Your code here\n",
    "    pass\n",
    "\n",
    "def test_expense_tracker():\n",
    "    add_expense(50.0, \"Groceries\")\n",
    "    add_expense(30.0, \"Transportation\")\n",
    "    \n",
    "    total = get_total_expenses()\n",
    "    if total == 80.0 and len(expenses) == 2:\n",
    "        print(\"Test passed!\")\n",
    "    else:\n",
    "        print(\"Test failed. Check your implementation.\")\n",
    "\n",
    "# Run the test\n",
    "test_expense_tracker()"
   ]
  },
  {
   "cell_type": "markdown",
   "metadata": {},
   "source": [
    "## Instructions:\n",
    "1. Complete `add_expense`: Add a dictionary with 'amount' and 'category' to `expenses`.\n",
    "2. Complete `get_total_expenses`: Return the sum of all expense amounts.\n",
    "3. Run the cell to test your implementation."
   ]
  },
  {
   "cell_type": "markdown",
   "metadata": {},
   "source": [
    "## Solution\n",
    "<details>\n",
    "<summary>Click here to reveal the solution</summary>\n",
    "\n",
    "```python\n",
    "def add_expense(amount, category):\n",
    "    expense = {\"amount\": amount, \"category\": category}\n",
    "    expenses.append(expense)\n",
    "    return\n",
    "\n",
    "def get_total_expenses():\n",
    "    total = 0\n",
    "    for expense in expenses:\n",
    "        total = total + expense[\"amount\"]\n",
    "    return total\n",
    "```\n",
    "\n",
    "Explanation:\n",
    "- `add_expense` creates a dictionary with the amount and category, then adds it to the expenses list using `append`.\n",
    "- `get_total_expenses` uses a for loop to go through each expense in the list, adding up all the amounts.\n",
    "</details>"
   ]
  }
 ],
 "metadata": {
  "kernelspec": {
   "display_name": "Python 3",
   "language": "python",
   "name": "python3"
  },
  "language_info": {
   "codemirror_mode": {
    "name": "ipython",
    "version": 3
   },
   "file_extension": ".py",
   "mimetype": "text/x-python",
   "name": "python",
   "nbconvert_exporter": "python",
   "pygments_lexer": "ipython3",
   "version": "3.10.12"
  }
 },
 "nbformat": 4,
 "nbformat_minor": 4
}
