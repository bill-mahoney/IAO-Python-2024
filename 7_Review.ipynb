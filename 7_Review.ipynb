{
 "cells": [
  {
   "cell_type": "markdown",
   "metadata": {},
   "source": [
    "## 7. Q&A and Summary\n",
    "In this class, we've covered:\n",
    "- Basic syntax and operations\n",
    "- Control structures\n",
    "- Data structures\n",
    "- Functions\n",
    "\n",
    "Feel free to explore and practice more on your own. Here are some resources to continue learning Python:\n",
    "- [Python Documentation](https://docs.python.org/3/)\n",
    "- [W3Schools Python Tutorial](https://www.w3schools.com/python/)\n",
    "\n",
    "Thank you for participating in the IAO Python 2024 class!"
   ]
  }
 ],
 "metadata": {
  "kernelspec": {
   "display_name": "Python 3",
   "language": "python",
   "name": "python3"
  },
  "language_info": {
   "name": "python",
   "version": "3.8.5"
  }
 },
 "nbformat": 4,
 "nbformat_minor": 4
}
