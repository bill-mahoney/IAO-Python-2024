{
 "cells": [
  {
   "cell_type": "markdown",
   "metadata": {},
   "source": [
    "## 7. Q&A and Summary\n",
    "In this class, we've covered:\n",
    "- Basic syntax and operations\n",
    "- Control structures\n",
    "- Data structures\n",
    "- Functions\n",
    "\n",
    "Q&A\n",
    "\n",
    "Feel free to explore and practice more on your own. Here are some resources to continue learning Python:\n",
    "- [Python Documentation](https://docs.python.org/3/)\n",
    "- [W3Schools Python Tutorial](https://www.w3schools.com/python/)\n",
    "- [This tutorial](https://github.com/bill-mahoney/IAO_Python_2024/tree/main)\n",
    "\n",
    "Thank you for participating in the IAO Intro To Programming Class!"
   ]
  },
  {
   "cell_type": "code",
   "execution_count": 1,
   "metadata": {},
   "outputs": [
    {
     "name": "stdout",
     "output_type": "stream",
     "text": [
      "z y x w v t s r q p n m l k j h g f d c b \n"
     ]
    }
   ],
   "source": [
    "# Review Space\n"
   ]
  }
 ],
 "metadata": {
  "kernelspec": {
   "display_name": "Python 3",
   "language": "python",
   "name": "python3"
  },
  "language_info": {
   "codemirror_mode": {
    "name": "ipython",
    "version": 3
   },
   "file_extension": ".py",
   "mimetype": "text/x-python",
   "name": "python",
   "nbconvert_exporter": "python",
   "pygments_lexer": "ipython3",
   "version": "3.10.12"
  }
 },
 "nbformat": 4,
 "nbformat_minor": 4
}
