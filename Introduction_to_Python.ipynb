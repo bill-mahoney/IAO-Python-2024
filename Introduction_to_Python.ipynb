# IAO Python 2024 Class

## 1. Introduction
Welcome to the IAO Python 2024 class! In this session, we'll cover the basics of Python programming. Python is a versatile and widely-used programming language known for its readability and ease of use. Let's get started!

## 2. Setup and Environment
We are using Binder to run our Python code in a Jupyter Notebook environment. Follow along as we execute each cell in this notebook.

### Hello, World!
```python
print("Hello, World!")
```

## 3. Basic Syntax and Operations

### Print Statements
The `print()` function is used to output text to the screen.
```python
print("Welcome to Python programming!")
```

### Variables and Data Types
Python supports various data types including integers, floats, and strings.

#### Integer
```python
x = 5
print(x)
```

#### Float
```python
y = 3.14
print(y)
```

#### String
```python
name = "Alice"
print(name)
```

### Basic Arithmetic Operations
Python can perform basic arithmetic operations such as addition, subtraction, multiplication, and division.
```python
# Addition
sum = x + y
print("Sum:", sum)

# Subtraction
difference = x - y
print("Difference:", difference)

# Multiplication
product = x * y
print("Product:", product)

# Division
quotient = x / y
print("Quotient:", quotient)
```

## 4. Control Structures

### Conditional Statements
Use `if`, `elif`, and `else` to execute code based on certain conditions.
```python
if x > y:
    print("x is greater than y")
elif x < y:
    print("x is less than y")
else:
    print("x is equal to y")
```

### Loops
Loops are used to execute a block of code repeatedly.

#### For Loop
```python
for i in range(5):
    print(i)
```

#### While Loop
```python
count = 0
while count < 5:
    print(count)
    count += 1
```

## 5. Basic Data Structures

### Lists
A list is a collection of items that can be changed.
```python
fruits = ["apple", "banana", "cherry"]
print(fruits[0])
fruits.append("orange")
print(fruits)
```

### Dictionaries
A dictionary is a collection of key-value pairs.
```python
student = {"name": "Alice", "age": 21, "grade": "A"}
print(student["name"])
student["age"] = 22
print(student)
```

## 6. Functions
Functions are reusable blocks of code that perform a specific task.
```python
def greet(name):
    return "Hello, " + name

print(greet("Alice"))
```

## 7. Q&A and Summary
In this class, we've covered:
- Basic syntax and operations
- Control structures
- Data structures
- Functions

Feel free to explore and practice more on your own. Here are some resources to continue learning Python:
- [Python Documentation](https://docs.python.org/3/)
- [W3Schools Python Tutorial](https://www.w3schools.com/python/)

Thank you for participating in the IAO Python 2024 class!
